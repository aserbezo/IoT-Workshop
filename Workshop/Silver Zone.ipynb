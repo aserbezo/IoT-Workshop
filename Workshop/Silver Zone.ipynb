{
 "cells": [
  {
   "cell_type": "code",
   "execution_count": 0,
   "metadata": {
    "application/vnd.databricks.v1+cell": {
     "cellMetadata": {
      "byteLimit": 2048000,
      "rowLimit": 10000
     },
     "inputWidgets": {},
     "nuid": "a727584b-bf93-4735-94cd-b907fc7952e8",
     "showTitle": false,
     "title": ""
    }
   },
   "outputs": [],
   "source": [
    "from pyspark.sql.functions import *\n",
    "from pyspark.sql.functions import from_json, col\n",
    "from pyspark.sql.types import StructType, StructField, IntegerType, StringType, DoubleType,TimestampType\n",
    "from pyspark.sql import SparkSession"
   ]
  },
  {
   "cell_type": "code",
   "execution_count": 0,
   "metadata": {
    "application/vnd.databricks.v1+cell": {
     "cellMetadata": {
      "byteLimit": 2048000,
      "rowLimit": 10000
     },
     "inputWidgets": {},
     "nuid": "df1398a0-e93b-41a4-8225-fd804fea1015",
     "showTitle": false,
     "title": ""
    }
   },
   "outputs": [],
   "source": [
    "#checkpoint_path = \"/mnt/bronze_checkpoint\"\n",
    "\n",
    "# Use dbutils.fs.rm to recursively delete the checkpoint directory\n",
    "#dbutils.fs.rm(checkpoint_path, recurse=True)"
   ]
  },
  {
   "cell_type": "code",
   "execution_count": 0,
   "metadata": {
    "application/vnd.databricks.v1+cell": {
     "cellMetadata": {
      "byteLimit": 2048000,
      "rowLimit": 10000
     },
     "inputWidgets": {},
     "nuid": "1bb83301-80d9-40eb-8fd6-ab63494f9c1c",
     "showTitle": false,
     "title": ""
    }
   },
   "outputs": [],
   "source": [
    "\n",
    "def process_and_write_to_silver(bronze_path, silver_path, checkpoint_path):\n",
    "    try:\n",
    "        # Initialize Spark session\n",
    "        spark = SparkSession.builder.getOrCreate()\n",
    "        \n",
    "        # Step 1: Infer schema from existing files\n",
    "        static_df = spark.read.format(\"parquet\").load(bronze_path)\n",
    "        inferred_schema = static_df.schema\n",
    "        \n",
    "        # Step 2: Apply the inferred schema to the streaming DataFrame\n",
    "        bronze_df = spark.readStream \\\n",
    "            .format(\"parquet\") \\\n",
    "            .schema(inferred_schema) \\\n",
    "            .load(bronze_path)\n",
    "        \n",
    "        # Define a schema for transformation\n",
    "        schema = StructType([\n",
    "            StructField(\"temp\", IntegerType()),\n",
    "            StructField(\"tire_press\", IntegerType()),\n",
    "            StructField(\"speed\", IntegerType()),\n",
    "            StructField(\"alert\", StringType()),\n",
    "            StructField(\"Latitude\", DoubleType(), True),\n",
    "            StructField(\"Longitude\", DoubleType(), True),\n",
    "            StructField(\"DeviceId\", StringType()),\n",
    "            StructField(\"time\", TimestampType())\n",
    "        ])\n",
    "        \n",
    "        # Transform the DataFrame\n",
    "        silver_df = transform_dataframe(bronze_df, schema)\n",
    "        \n",
    "        # Write to Silver layer (Transformed data)\n",
    "        query = silver_df.writeStream \\\n",
    "            .format(\"parquet\") \\\n",
    "            .option(\"path\", silver_path) \\\n",
    "            .option(\"checkpointLocation\", checkpoint_path) \\\n",
    "            .start()\n",
    "        \n",
    "        # Await termination to keep the stream running\n",
    "        query.awaitTermination()\n",
    "    except Exception as e:\n",
    "        print(f'An error occurred: {e}')\n",
    "\n",
    "def transform_dataframe(df, schema):\n",
    "    df = df.withColumn(\"parsed\", from_json(\"body\", schema))\n",
    "    \n",
    "    # Now extract the values into separate columns\n",
    "    df = df.select(\n",
    "        col(\"parsed.temp\").alias(\"temp\"),\n",
    "        col(\"parsed.tire_press\").alias(\"tire_press\"),\n",
    "        col(\"parsed.speed\").alias(\"speed\"),\n",
    "        col(\"parsed.alert\").alias(\"alert\"),\n",
    "        col(\"parsed.Latitude\").alias(\"Latitude\"),\n",
    "        col(\"parsed.Longitude\").alias(\"Longitude\"),\n",
    "        col(\"parsed.DeviceId\").alias(\"DeviceId\"),\n",
    "        col(\"parsed.time\").alias(\"time\")\n",
    "    )\n",
    "    \n",
    "    df = df.withColumn(\"Fahrenheit\", col(\"temp\") * 9 / 5 + 32)\n",
    "    return df\n",
    "\n",
    "# Usage example\n",
    "bronze_path = \"/mnt/bronze\"\n",
    "silver_path = \"/mnt/silver\"\n",
    "checkpoint_path = \"/mnt/silver_checkpoint\"\n",
    "\n",
    "process_and_write_to_silver(bronze_path, silver_path, checkpoint_path)\n"
   ]
  },
  {
   "cell_type": "code",
   "execution_count": 0,
   "metadata": {
    "application/vnd.databricks.v1+cell": {
     "cellMetadata": {
      "byteLimit": 2048000,
      "rowLimit": 10000
     },
     "inputWidgets": {},
     "nuid": "3d0a778e-0755-4498-8f36-db5d39fcd1bd",
     "showTitle": false,
     "title": ""
    }
   },
   "outputs": [],
   "source": [
    "static_df = spark.read.format(\"parquet\").load('/mnt/gold')\n",
    "inferred_schema = static_df.schema\n",
    "        \n",
    "# Step 2: Apply the inferred schema to the streaming DataFrame\n",
    "bronze_df = spark.readStream \\\n",
    "            .format(\"parquet\") \\\n",
    "            .schema(inferred_schema) \\\n",
    "            .load('/mnt/gold')"
   ]
  },
  {
   "cell_type": "code",
   "execution_count": 0,
   "metadata": {
    "application/vnd.databricks.v1+cell": {
     "cellMetadata": {
      "byteLimit": 2048000,
      "rowLimit": 10000
     },
     "inputWidgets": {},
     "nuid": "c208e074-44dd-490f-8715-b343251e8eb9",
     "showTitle": false,
     "title": ""
    }
   },
   "outputs": [
    {
     "output_type": "display_data",
     "data": {
      "text/plain": [
       "Databricks visualization. Run in Databricks to view."
      ]
     },
     "metadata": {
      "application/vnd.databricks.v1.subcommand+json": {
       "baseErrorDetails": null,
       "bindings": {},
       "collapsed": false,
       "command": "# Databricks no-op command",
       "commandTitle": "Visualization 1",
       "commandType": "auto",
       "commandVersion": 0,
       "commentThread": [],
       "commentsVisible": false,
       "contentSha256Hex": null,
       "customPlotOptions": {
        "redashChart": [
         {
          "key": "type",
          "value": "MAP"
         },
         {
          "key": "options",
          "value": {
           "backgroundColor": "#356AFF",
           "borderColor": "#356AFF",
           "bounds": {
            "_northEast": {
             "lat": 44.96479793033104,
             "lng": 29.168701171875004
            },
            "_southWest": {
             "lat": 40.805493843894176,
             "lng": 18.665771484375004
            }
           },
           "classify": "DeviceId",
           "clusterMarkers": true,
           "customizeMarkers": false,
           "foregroundColor": "#ffffff",
           "groups": {},
           "iconFont": "circle",
           "iconShape": "marker",
           "latColName": "Longitude",
           "lonColName": "Latitude",
           "mapTileUrl": "//{s}.tile.openstreetmap.org/{z}/{x}/{y}.png",
           "popup": {
            "enabled": false,
            "template": "{{DeviceId}}"
           },
           "showPlotlyControls": true,
           "tooltip": {
            "enabled": true,
            "template": ""
           }
          }
         }
        ]
       },
       "datasetPreviewNameToCmdIdMap": {},
       "diffDeletes": [],
       "diffInserts": [],
       "displayType": "redashChart",
       "error": null,
       "errorDetails": null,
       "errorSummary": null,
       "errorTraceType": null,
       "finishTime": 0,
       "globalVars": {},
       "guid": "",
       "height": "auto",
       "hideCommandCode": false,
       "hideCommandResult": false,
       "iPythonMetadata": null,
       "inputWidgets": {},
       "isLockedInExamMode": false,
       "latestUser": "a user",
       "latestUserId": null,
       "listResultMetadata": null,
       "metadata": {},
       "nuid": "f8eede47-7f74-4150-ba56-1b3fa9d0743b",
       "origId": 0,
       "parentHierarchy": [],
       "pivotAggregation": null,
       "pivotColumns": null,
       "position": 6.0,
       "resultDbfsErrorMessage": null,
       "resultDbfsStatus": "INLINED_IN_TREE",
       "results": null,
       "showCommandTitle": false,
       "startTime": 0,
       "state": "input",
       "streamStates": {},
       "subcommandOptions": {},
       "submitTime": 0,
       "subtype": "tableResultSubCmd.visualization",
       "tableResultIndex": 0,
       "useConsistentColors": false,
       "version": "CommandV1",
       "width": "auto",
       "workflows": null,
       "xColumns": null,
       "yColumns": null
      }
     },
     "output_type": "display_data"
    }
   ],
   "source": [
    "display(bronze_df)"
   ]
  },
  {
   "cell_type": "code",
   "execution_count": 0,
   "metadata": {
    "application/vnd.databricks.v1+cell": {
     "cellMetadata": {},
     "inputWidgets": {},
     "nuid": "f5438839-bb91-4622-9c8c-bab8e4d59ab5",
     "showTitle": false,
     "title": ""
    }
   },
   "outputs": [],
   "source": []
  }
 ],
 "metadata": {
  "application/vnd.databricks.v1+notebook": {
   "dashboards": [
    {
     "elements": [
      {
       "dashboardResultIndex": 0,
       "elementNUID": "c208e074-44dd-490f-8715-b343251e8eb9",
       "elementType": "command",
       "guid": "58ad45ca-28ec-4b54-b734-cbec03d243d3",
       "options": null,
       "position": {
        "height": 9,
        "width": 22,
        "x": 0,
        "y": 0,
        "z": null
       },
       "resultIndex": null
      }
     ],
     "globalVars": {},
     "guid": "",
     "layoutOption": {
      "grid": true,
      "stack": true
     },
     "nuid": "119571ac-bb43-4bb7-91f6-9309250ba9fd",
     "origId": 1976721168456092,
     "title": "Untitled",
     "version": "DashboardViewV1",
     "width": 1024
    }
   ],
   "environmentMetadata": null,
   "language": "python",
   "notebookMetadata": {
    "pythonIndentUnit": 4
   },
   "notebookName": "Silver Zone",
   "widgets": {}
  }
 },
 "nbformat": 4,
 "nbformat_minor": 0
}
